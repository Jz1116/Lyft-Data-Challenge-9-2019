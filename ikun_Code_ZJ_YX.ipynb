{
 "cells": [
  {
   "cell_type": "code",
   "execution_count": 3,
   "metadata": {},
   "outputs": [],
   "source": [
    "# Lyft Data Challenge\n",
    "# Team Name: ikun\n",
    "# Team Member: Zhen Jiang & Yihua Xu\n",
    "\n",
    "import pandas as pd\n",
    "from pandas.plotting import radviz\n",
    "import matplotlib.pyplot as plt\n",
    "import numpy as np\n",
    "from sklearn.model_selection import train_test_split\n",
    "from sklearn.ensemble import RandomForestRegressor\n",
    "from sklearn import svm, preprocessing\n",
    "from sklearn.decomposition import PCA\n",
    "from sklearn.preprocessing import StandardScaler\n",
    "from sklearn import linear_model\n",
    "from sklearn.linear_model import Perceptron"
   ]
  },
  {
   "cell_type": "code",
   "execution_count": 4,
   "metadata": {},
   "outputs": [],
   "source": [
    "# read the file\n",
    "\n",
    "def read(file):\n",
    "    return pd.read_csv(file)\n",
    "\n",
    "driver_id = read('driver_ids.csv')\n",
    "ride_id = read('ride_ids.csv')\n",
    "ride_time = read('ride_timestamps.csv')\n",
    "ride_time = ride_time[ride_time.event != 'requested_at']\n",
    "ride_time = ride_time[ride_time.event != 'accepted_at']\n",
    "ride_time = ride_time[ride_time.event != 'picked_up_at']\n",
    "ride_time = ride_time[ride_time.event != 'arrived_at']"
   ]
  },
  {
   "cell_type": "code",
   "execution_count": 5,
   "metadata": {},
   "outputs": [],
   "source": [
    "# convert the file to numpy array\n",
    "\n",
    "driver_id_np = (driver_id).to_numpy()\n",
    "ride_id_np = (ride_id).to_numpy()\n",
    "ride_time_np = (ride_time).to_numpy()"
   ]
  },
  {
   "cell_type": "code",
   "execution_count": 6,
   "metadata": {},
   "outputs": [],
   "source": [
    "# convert the file to list\n",
    "\n",
    "driver_id_li = (driver_id_np).tolist()\n",
    "ride_id_li = (ride_id_np).tolist()\n",
    "ride_time_li = (ride_time_np).tolist()"
   ]
  },
  {
   "cell_type": "code",
   "execution_count": 7,
   "metadata": {},
   "outputs": [],
   "source": [
    "# calculate the fare for each ride\n",
    "\n",
    "for i in range(len(ride_id_li)):\n",
    "    fare = (ride_id_li[i][2]*1.15*0.000621371 + ride_id_li[i][3]*0.22/60 + 2) * ((100+ride_id_li[i][4])/100) + 1.75\n",
    "    if fare < 5:\n",
    "        fare = 5\n",
    "    if fare >400:\n",
    "        fare = 400\n",
    "    ride_id_li[i].append(fare)"
   ]
  },
  {
   "cell_type": "code",
   "execution_count": 8,
   "metadata": {},
   "outputs": [
    {
     "name": "stdout",
     "output_type": "stream",
     "text": [
      "The fare for this ride is $ 8.489647469725\n"
     ]
    }
   ],
   "source": [
    "print(\"The fare for this ride is $\", ride_id_li[0][5])"
   ]
  },
  {
   "cell_type": "code",
   "execution_count": 9,
   "metadata": {},
   "outputs": [
    {
     "name": "stdout",
     "output_type": "stream",
     "text": [
      "The fare that a driver got from every ride:\n",
      " [6.700114503433333, 14.164552560133334, 11.986016797200001, 8.458346249625, 6.7957250118, 11.112514430216667, 13.425959146166665, 10.387466316000001, 9.183669310133332, 5.80547858925, 14.793924386574998, 16.60572080527083, 79.21695783837501, 5.37209658295, 29.26577196708333, 24.03772408118333, 5, 23.947333165699998, 6.430094137933333, 6.7295773108666666, 15.26709700827083, 7.245827043533334, 13.5179694204375, 10.713279103683332, 5.575009774283333, 7.208218367483333, 8.95951549955, 6.06995168155, 5.916577412983333, 13.146081789541665, 7.023437654016667, 19.40753091528333, 24.403870965183334, 13.142189291249998, 7.01413904415, 7.406763604133333, 9.1067805574, 16.738936807216668, 7.610252021616667, 14.751586773016665, 19.795075953483334, 15.808288824016666, 9.858678273266666, 6.492747924433333, 8.082489179020833, 6.936259544520833, 7.57439552325, 10.460616257716666, 10.02738689055, 6.2671313184583335, 22.807747047766668, 26.362538088483333, 17.352357201616666, 6.784729187016667, 5.87000463185, 26.477755032116665]\n"
     ]
    }
   ],
   "source": [
    "# use a dictionary to contain the fare for every ride that a driver takes\n",
    "\n",
    "driver_faredict = {}\n",
    "for i in ride_id_li:\n",
    "    if i[0] not in driver_faredict:\n",
    "        driver_faredict[i[0]] = [i[5]]\n",
    "    else:\n",
    "        driver_faredict[i[0]].append(i[5])\n",
    "        \n",
    "print(\"The fare that a driver got from every ride:\\n\", driver_faredict['052bba06c5fc0bdea4bc2f9cb92b37c7'])"
   ]
  },
  {
   "cell_type": "code",
   "execution_count": 10,
   "metadata": {},
   "outputs": [
    {
     "name": "stdout",
     "output_type": "stream",
     "text": [
      "This driver has completed these rides(ID):\n",
      " ['01f133164433ea7682545a41643e6949', '07f9b5246c8431e3e5bac56d9f48b4f9', '13ac4cc1bf311c6944d0e6cd4c93ebb1', '274033cb9ee08c4499d4f16ce9db9a82', '2ca7357aa39d812da3055ae3d8ffa3e5', '2efa365088953fc2427eca4685082353', '319454bab6c79927906ffa747d196093', '51fbbf26de390105a9b5074e3c51397f', '5a6861ae3b9498188027a02c587348a2', '6bae1803f94384d4e763f64bf6124f5e', '833bfa5564b71fcdb8130cc82319cd73', '942d0071fcb8c16f47182f3fe7aa02ea', '9acc3e2e4e4b6dafae49dd866f32dd94', 'acafdb36eff085643765d58b3fd209cd', 'ad54b7bb09f71f8425abb9350056983e', 'b00676fa85988030cb4ecefb7a721e81', 'b6b8293e442483822046dbd73fe4cf34', 'c39f3aefd5fb1d6edaf94bd97ddaf51d', 'ca9b900ed4ebdbbe72f1cfaf21fcd497', 'cee97d3a86ab81ff1ee41e7426a082cc', 'cfd4a9c275c812148d0ecaffb17fa854', 'd04a2fab8f224ee824f66ece82d729c0', 'd31d7c47c230715656f7842f2ef4641a', 'd860426f111362c7d22bff032062bd40', 'db46f1b031e64c66f1559c36d47caa6d', 'e12e0da37fc9cdf44b5d8df10b979149', 'e6c6d6c487f0e797e2dceacb659e37a7', 'f3ce30db8d34ebc0fd5e094cfa570ca0', 'f95f062ce77b48660c485e2028c0ff2c', 'ff20da2338a0d658a864fe0d9ff15d01', 'fff0e042e3f373008dd24e825f9469fe']\n"
     ]
    }
   ],
   "source": [
    "# make a dictionary with the key as driver id and the value as ride id\n",
    "\n",
    "driver_rideiddict = {}\n",
    "for i in ride_id_li:\n",
    "    if i[0] not in driver_rideiddict:\n",
    "        driver_rideiddict[i[0]] = [i[1]]\n",
    "    else:\n",
    "        driver_rideiddict[i[0]].append(i[1])\n",
    "        \n",
    "print(\"This driver has completed these rides(ID):\\n\",driver_rideiddict['007f0389f9c7b03ef97098422f902e62'])"
   ]
  },
  {
   "cell_type": "code",
   "execution_count": 11,
   "metadata": {},
   "outputs": [
    {
     "name": "stdout",
     "output_type": "stream",
     "text": [
      "This ride belongs to this driver ['007f0389f9c7b03ef97098422f902e62']\n"
     ]
    }
   ],
   "source": [
    "# we reverse the dictionary (use ride id as key and driver id as value)\n",
    "\n",
    "rideid_driverdict = {}\n",
    "for i in driver_rideiddict.keys():\n",
    "    for j in driver_rideiddict[i]:\n",
    "        rideid_driverdict[j] = [i]\n",
    "        \n",
    "print(\"This ride belongs to this driver\",rideid_driverdict['01f133164433ea7682545a41643e6949'])"
   ]
  },
  {
   "cell_type": "code",
   "execution_count": 12,
   "metadata": {},
   "outputs": [
    {
     "name": "stdout",
     "output_type": "stream",
     "text": [
      "This ride belongs to this driver, and its drop-off time is attached. ['007f0389f9c7b03ef97098422f902e62', '2016-04-08 20:45:16']\n",
      "Number of elements in the value of the dictionary not equal to 2: 0\n"
     ]
    }
   ],
   "source": [
    "# make a dictionary using ride id as key and a list of driver id and drop off time as value\n",
    "\n",
    "rideid_driver_timedict = {}\n",
    "for i in ride_time_li:\n",
    "    if i[0] in rideid_driverdict:\n",
    "        rideid_driverdict[i[0]].append(i[2])\n",
    "        \n",
    "for i in rideid_driverdict.keys():\n",
    "    if len(rideid_driverdict[i]) == 2:\n",
    "        rideid_driver_timedict[i] = rideid_driverdict[i]\n",
    "        \n",
    "print(\"This ride belongs to this driver, and its drop-off time is attached.\", rideid_driver_timedict['07f9b5246c8431e3e5bac56d9f48b4f9'])\n",
    "\n",
    "#To check every value of the dictionary contains exactly two elements\n",
    "signal = 0\n",
    "for i in rideid_driver_timedict.values():\n",
    "    if len(i) != 2:\n",
    "        siganl += 1\n",
    "        \n",
    "print(\"Number of elements in the value of the dictionary not equal to 2:\", signal)"
   ]
  },
  {
   "cell_type": "code",
   "execution_count": 13,
   "metadata": {},
   "outputs": [
    {
     "name": "stdout",
     "output_type": "stream",
     "text": [
      "A driver has completed the rides are on these dates:\n",
      " ['2016-05-18 21:27:51', '2016-04-08 20:45:16', '2016-05-18 21:48:00', '2016-04-27 21:47:05', '2016-06-14 21:11:59', '2016-03-29 22:48:33', '2016-06-14 21:27:19', '2016-05-06 21:42:55', '2016-04-24 16:58:58', '2016-06-05 17:06:34', '2016-06-05 14:32:07', '2016-05-19 16:18:45', '2016-04-27 21:11:13', '2016-05-06 21:00:19', '2016-06-22 13:16:46', '2016-04-29 20:18:50', '2016-04-27 19:41:07', '2016-05-18 22:07:25', '2016-05-06 21:17:11', '2016-05-18 21:40:01', '2016-06-05 17:28:09', '2016-06-02 16:58:42', '2016-06-22 13:28:38', '2016-04-24 18:51:22', '2016-04-27 20:27:05', '2016-04-24 17:57:44', '2016-06-05 13:47:18', '2016-05-18 20:39:43', '2016-04-29 21:01:30', '2016-04-24 15:53:38', '2016-04-24 18:12:53']\n"
     ]
    }
   ],
   "source": [
    "# we create a new dictionary with driver id as key and a list of drop-off time for every ride as value\n",
    "\n",
    "driver_alltripsdict = {}\n",
    "for i in rideid_driver_timedict.keys():\n",
    "    if rideid_driver_timedict[i][0] not in driver_alltripsdict:\n",
    "        driver_alltripsdict[rideid_driver_timedict[i][0]] = [rideid_driver_timedict[i][1]]\n",
    "    elif rideid_driver_timedict[i][0] in driver_alltripsdict:\n",
    "        driver_alltripsdict[rideid_driver_timedict[i][0]].append(rideid_driver_timedict[i][1])\n",
    "        \n",
    "print(\"A driver has completed the rides are on these dates:\\n\", driver_alltripsdict['007f0389f9c7b03ef97098422f902e62'])"
   ]
  },
  {
   "cell_type": "code",
   "execution_count": 14,
   "metadata": {},
   "outputs": [
    {
     "name": "stdout",
     "output_type": "stream",
     "text": [
      "A driver has completed the rides on these dates:\n",
      " [['05', '18'], ['04', '08'], ['05', '18'], ['04', '27'], ['06', '14'], ['03', '29'], ['06', '14'], ['05', '06'], ['04', '24'], ['06', '05'], ['06', '05'], ['05', '19'], ['04', '27'], ['05', '06'], ['06', '22'], ['04', '29'], ['04', '27'], ['05', '18'], ['05', '06'], ['05', '18'], ['06', '05'], ['06', '02'], ['06', '22'], ['04', '24'], ['04', '27'], ['04', '24'], ['06', '05'], ['05', '18'], ['04', '29'], ['04', '24'], ['04', '24']]\n"
     ]
    }
   ],
   "source": [
    "# we modify the current dictionary to just have a list of lists that contain the month and day\n",
    "\n",
    "for i in driver_alltripsdict.keys():\n",
    "    for j in range(len(driver_alltripsdict[i])):\n",
    "        driver_alltripsdict[i][j] = driver_alltripsdict[i][j].split()[0].split(\"-\")[1:]\n",
    "        \n",
    "print(\"A driver has completed the rides on these dates:\\n\", driver_alltripsdict['007f0389f9c7b03ef97098422f902e62'])"
   ]
  },
  {
   "cell_type": "code",
   "execution_count": 15,
   "metadata": {},
   "outputs": [
    {
     "name": "stdout",
     "output_type": "stream",
     "text": [
      "A driver has completed the rides on these dates:\n",
      " [[5, 9], [4, 23], [4, 23], [4, 15], [4, 16], [5, 26], [4, 21], [4, 23], [5, 8], [4, 21], [4, 22], [5, 7], [5, 11], [4, 16], [4, 18], [5, 8], [5, 8], [5, 9], [5, 11], [6, 20], [5, 9], [4, 18], [4, 18], [4, 21], [5, 7], [4, 23], [4, 16], [4, 15], [4, 16], [4, 18], [4, 16], [4, 16], [5, 26], [4, 18], [6, 20], [4, 16], [5, 11], [4, 16], [4, 22], [4, 16], [4, 15], [6, 20], [5, 11], [5, 7], [4, 23], [4, 16], [5, 11], [4, 18], [4, 16], [5, 11], [4, 23], [5, 11], [5, 9], [4, 15], [4, 15], [4, 18]]\n"
     ]
    }
   ],
   "source": [
    "# modify the value of current dictionary from string type to integer type\n",
    "\n",
    "for i in driver_alltripsdict.keys():\n",
    "    for j in range(len(driver_alltripsdict[i])):\n",
    "        driver_alltripsdict[i][j] = [int(driver_alltripsdict[i][j][0]),int(driver_alltripsdict[i][j][1])]\n",
    "        \n",
    "print(\"A driver has completed the rides on these dates:\\n\", driver_alltripsdict['052bba06c5fc0bdea4bc2f9cb92b37c7'])"
   ]
  },
  {
   "cell_type": "code",
   "execution_count": 16,
   "metadata": {},
   "outputs": [
    {
     "name": "stdout",
     "output_type": "stream",
     "text": [
      "A driver has compelted the last ride on this date [[6, 20]]\n"
     ]
    }
   ],
   "source": [
    "'''Get last boarding date'''\n",
    "\n",
    "for i in driver_alltripsdict.keys():\n",
    "    month = 1\n",
    "    day = 1\n",
    "    for j in driver_alltripsdict[i]:\n",
    "        if j[0] > month:\n",
    "            month = j[0]\n",
    "            day = j[1]\n",
    "        elif j[0] == month:\n",
    "            if j[1] > day:\n",
    "                day = j[1]\n",
    "    driver_alltripsdict[i] = [[month, day]]\n",
    "    \n",
    "print(\"A driver has compelted the last ride on this date\",driver_alltripsdict['052bba06c5fc0bdea4bc2f9cb92b37c7'])  "
   ]
  },
  {
   "cell_type": "code",
   "execution_count": 17,
   "metadata": {},
   "outputs": [
    {
     "name": "stdout",
     "output_type": "stream",
     "text": [
      "The driver has his end date and his onboard date respectively on [[6, 20], ['04', '15']]\n"
     ]
    }
   ],
   "source": [
    "# Add the onboard date\n",
    "\n",
    "for i in driver_alltripsdict.keys():\n",
    "    for k in driver_id_li:\n",
    "        if i == k[0]:\n",
    "            driver_alltripsdict[i].append(k[1].split()[0].split(\"-\")[1:])\n",
    "            \n",
    "print(\"The driver has his end date and his onboard date respectively on\", driver_alltripsdict['052bba06c5fc0bdea4bc2f9cb92b37c7']) "
   ]
  },
  {
   "cell_type": "code",
   "execution_count": 18,
   "metadata": {},
   "outputs": [
    {
     "name": "stdout",
     "output_type": "stream",
     "text": [
      "The driver has his end date and his onboard date respectively on [[6, 20], [4, 15]]\n",
      "Number of elements in the value of the dictionary not equal to 2: 0\n"
     ]
    }
   ],
   "source": [
    "'''convert to int'''\n",
    "\n",
    "for i in driver_alltripsdict.keys():\n",
    "    for j in range(len(driver_alltripsdict[i])):\n",
    "        driver_alltripsdict[i][j] = [int(driver_alltripsdict[i][j][0]),int(driver_alltripsdict[i][j][1])]\n",
    "print(\"The driver has his end date and his onboard date respectively on\", driver_alltripsdict['052bba06c5fc0bdea4bc2f9cb92b37c7']) \n",
    "\n",
    "driver_on_offdict = {}\n",
    "for i in driver_alltripsdict.keys():\n",
    "    if len(driver_alltripsdict[i]) == 2:\n",
    "        driver_on_offdict[i] = driver_alltripsdict[i]\n",
    "        \n",
    "# Check if the value of the dictionary contains exactly 2 elements\n",
    "signal = 0\n",
    "for i in driver_on_offdict.keys():\n",
    "    if len(driver_alltripsdict[i]) != 2:\n",
    "        signal += 1\n",
    "print(\"Number of elements in the value of the dictionary not equal to 2:\", signal)"
   ]
  },
  {
   "cell_type": "code",
   "execution_count": 19,
   "metadata": {},
   "outputs": [
    {
     "name": "stdout",
     "output_type": "stream",
     "text": [
      "The difference of the start date and the end date for this driver is 34\n"
     ]
    }
   ],
   "source": [
    "'''calculate number of days between the onboard date and the end date for each driver'''\n",
    "\n",
    "for i in driver_on_offdict.keys():\n",
    "    lastMonth = driver_on_offdict[i][0][0]\n",
    "    lastDay = driver_on_offdict[i][0][1]\n",
    "    startMonth = driver_on_offdict[i][1][0]\n",
    "    startDay = driver_on_offdict[i][1][1]\n",
    "    \n",
    "    startDays = (startMonth - 1) * 30 + startDay\n",
    "    lastDays = (lastMonth - 1) * 30 + lastDay\n",
    "    \n",
    "    difference = lastDays - startDays\n",
    "    driver_on_offdict[i] = difference\n",
    "    \n",
    "print(\"The difference of the start date and the end date for this driver is\", driver_on_offdict['fff482c704d36a1afe8b8978d5486283']) "
   ]
  },
  {
   "cell_type": "code",
   "execution_count": 20,
   "metadata": {},
   "outputs": [
    {
     "name": "stdout",
     "output_type": "stream",
     "text": [
      "Average Lifetime Value: $ 2979.856\n"
     ]
    }
   ],
   "source": [
    "'''Average Lifetime Value'''\n",
    "\n",
    "farelist = []\n",
    "farelistnew = []\n",
    "for i in driver_on_offdict.keys():\n",
    "    for k in driver_faredict.keys():\n",
    "        if i == k:\n",
    "            farelist.append(driver_faredict[k])\n",
    "            \n",
    "for i in farelist:\n",
    "    sum3 = 0\n",
    "    for k in i:\n",
    "        sum3 += k\n",
    "    farelistnew.append(sum3)\n",
    "    \n",
    "sum4 = 0\n",
    "for i in farelistnew:\n",
    "    sum4 +=  i\n",
    "newaverage = sum4/len(farelistnew)\n",
    "print(\"Average Lifetime Value:\", \"$\", round(newaverage, 3))"
   ]
  },
  {
   "cell_type": "code",
   "execution_count": 21,
   "metadata": {},
   "outputs": [
    {
     "name": "stdout",
     "output_type": "stream",
     "text": [
      "Average days spent in Lyft: 54.184\n"
     ]
    }
   ],
   "source": [
    "'''Average days spent in Lyft'''\n",
    "\n",
    "averageDay = 0\n",
    "for i in driver_on_offdict.keys():\n",
    "    averageDay += driver_on_offdict[i]\n",
    "averageDay /= len(driver_on_offdict)\n",
    "print(\"Average days spent in Lyft:\", round(averageDay, 3))"
   ]
  },
  {
   "cell_type": "code",
   "execution_count": 22,
   "metadata": {},
   "outputs": [],
   "source": [
    "'''feature1: Driver ID'''\n",
    "# Create numpy array to contain Driver ID\n",
    "\n",
    "Driver_ID_LIST = []\n",
    "for i in driver_on_offdict.keys():\n",
    "    Driver_ID_LIST.append(i)\n",
    "driver_id_nparray = np.asarray(Driver_ID_LIST).reshape(-1,1)"
   ]
  },
  {
   "cell_type": "code",
   "execution_count": 23,
   "metadata": {},
   "outputs": [],
   "source": [
    "'''feature2: Days in Lyft'''\n",
    "#Create a numpy array to contain Days in Lyft\n",
    "\n",
    "Driver_day_list = []\n",
    "for i in Driver_ID_LIST:\n",
    "    if i in driver_on_offdict:\n",
    "        Driver_day_list.append(driver_on_offdict[i])\n",
    "driver_days_nparray = np.asarray(Driver_day_list).reshape(-1,1)"
   ]
  },
  {
   "cell_type": "code",
   "execution_count": 24,
   "metadata": {},
   "outputs": [],
   "source": [
    "'''Target: Life Time Value'''\n",
    "# Create a numpy array to contain Lifetime Value\n",
    "\n",
    "LTV_dict = {}\n",
    "Driver_LTV_list = []\n",
    "for i in driver_on_offdict.keys():\n",
    "    for j in driver_faredict.keys():\n",
    "        if (i == j):\n",
    "            LTV_dict[j] = driver_faredict[j]\n",
    "            \n",
    "for i in LTV_dict.keys():\n",
    "    total = 0\n",
    "    for j in LTV_dict[i]:\n",
    "        total += j\n",
    "    LTV_dict[i] = total\n",
    "\n",
    "for i in Driver_ID_LIST:\n",
    "    if i in LTV_dict:\n",
    "        Driver_LTV_list.append(LTV_dict[i])\n",
    "        \n",
    "driver_LTV_nparrays = np.asarray(Driver_LTV_list).reshape(-1,1)"
   ]
  },
  {
   "cell_type": "code",
   "execution_count": 25,
   "metadata": {},
   "outputs": [],
   "source": [
    "'''feature3: Primetime Percentage for each driver'''\n",
    "\n",
    "Driver_total_primetime = {}\n",
    "for i in range(len(Driver_ID_LIST)):\n",
    "    for k in range(len(ride_id_li)):\n",
    "        if Driver_ID_LIST[i] == ride_id_li[k][0]:\n",
    "            Driver_total_primetime[Driver_ID_LIST[i]] = []\n",
    "            \n",
    "for i in range(len(Driver_ID_LIST)):\n",
    "    for k in range(len(ride_id_li)):\n",
    "        if Driver_ID_LIST[i] == ride_id_li[k][0]:\n",
    "            Driver_total_primetime[Driver_ID_LIST[i]].append(ride_id_li[k][4]) "
   ]
  },
  {
   "cell_type": "code",
   "execution_count": 26,
   "metadata": {},
   "outputs": [
    {
     "name": "stdout",
     "output_type": "stream",
     "text": [
      "A driver has completed rides during different prime time:\n",
      " [25, 0, 50, 0, 0, 75, 25, 0, 50, 75, 0, 0, 50, 0, 0, 0, 0, 50, 0, 25, 75, 0, 0, 0, 0, 0, 50, 0, 0, 0, 75]\n"
     ]
    }
   ],
   "source": [
    "# the dictionary contains different levels of prime time for each ride for every driver\n",
    "\n",
    "print(\"A driver has completed rides during different prime time:\\n\", Driver_total_primetime['007f0389f9c7b03ef97098422f902e62']) "
   ]
  },
  {
   "cell_type": "code",
   "execution_count": 27,
   "metadata": {},
   "outputs": [
    {
     "name": "stdout",
     "output_type": "stream",
     "text": [
      "The average prime time estimation for a driver is  20.161290322580644\n"
     ]
    }
   ],
   "source": [
    "# Modify the current dictionary: add different levels of prime time together\n",
    "# and divde by the number of rides to get an average evaluation of prime time for each driver\n",
    "\n",
    "for i in Driver_total_primetime.keys():\n",
    "    sum1 = 0\n",
    "    for k in Driver_total_primetime[i]:\n",
    "        sum1 += k\n",
    "    num = len(Driver_total_primetime[i])\n",
    "    Driver_total_primetime[i] = sum1/num\n",
    "print(\"The average prime time estimation for a driver is \", Driver_total_primetime['007f0389f9c7b03ef97098422f902e62']) "
   ]
  },
  {
   "cell_type": "code",
   "execution_count": 28,
   "metadata": {},
   "outputs": [
    {
     "name": "stdout",
     "output_type": "stream",
     "text": [
      "The shape of Driver_primetime_nparrays (837, 1)\n"
     ]
    }
   ],
   "source": [
    "# Create a numpy array that contains prime time for every driver\n",
    "\n",
    "Driver_primetime_list = []\n",
    "for i in Driver_total_primetime:\n",
    "    Driver_primetime_list.append(Driver_total_primetime[i])\n",
    "Driver_primetime_nparrays = np.asarray(Driver_primetime_list).reshape(-1,1)\n",
    "print(\"The shape of Driver_primetime_nparrays\", Driver_primetime_nparrays.shape)"
   ]
  },
  {
   "cell_type": "code",
   "execution_count": 29,
   "metadata": {},
   "outputs": [
    {
     "name": "stdout",
     "output_type": "stream",
     "text": [
      "The total ride distance and the number of rides for a driver are [1740287, 277]\n"
     ]
    }
   ],
   "source": [
    "'''feature4: total ride distance'''\n",
    "# Create a numpy array that contains total ride distance\n",
    "\n",
    "driver_dist_dict = {}\n",
    "for i in ride_id_li:\n",
    "    if i[0] not in driver_dist_dict:\n",
    "        driver_dist_dict[i[0]] = [i[2]]\n",
    "    else:\n",
    "        driver_dist_dict[i[0]].append(i[2])\n",
    "\n",
    "\n",
    "for i in driver_dist_dict.keys():\n",
    "    total_dist = 0\n",
    "    num_rides = 0\n",
    "    for j in driver_dist_dict[i]:\n",
    "        total_dist += j\n",
    "        num_rides += 1\n",
    "    driver_dist_dict[i] = [total_dist, num_rides]\n",
    "print(\"The total ride distance and the number of rides for a driver are\", driver_dist_dict[\"002be0ffdc997bd5c50703158b7c2491\"])\n",
    "\n",
    "total_dist_list = []\n",
    "for i in Driver_ID_LIST:\n",
    "    if i in driver_dist_dict:\n",
    "        total_dist_list.append(driver_dist_dict[i][0])\n",
    "\n",
    "total_dist_nparray = np.asarray(total_dist_list).reshape(-1,1)"
   ]
  },
  {
   "cell_type": "code",
   "execution_count": 30,
   "metadata": {},
   "outputs": [],
   "source": [
    "'''feature5: total number of rides'''\n",
    "# Create a numpy array to contain number of rides\n",
    "\n",
    "total_numrides_list = []\n",
    "for i in Driver_ID_LIST:\n",
    "    if i in driver_dist_dict:\n",
    "        total_numrides_list.append(driver_dist_dict[i][1])\n",
    "\n",
    "total_numrides_nparray = np.asarray(total_numrides_list).reshape(-1,1)"
   ]
  },
  {
   "cell_type": "code",
   "execution_count": 31,
   "metadata": {},
   "outputs": [
    {
     "name": "stdout",
     "output_type": "stream",
     "text": [
      "The total duration of the rides for this driver is 3687.3\n"
     ]
    }
   ],
   "source": [
    "'''feature6: total duration'''\n",
    "# Create a numpy array to store the total duration of the rides for each driver\n",
    "\n",
    "driver_time_dict = {}\n",
    "for i in ride_id_li:\n",
    "    if i[0] not in driver_time_dict:\n",
    "        driver_time_dict[i[0]] = [i[3]]\n",
    "    else:\n",
    "        driver_time_dict[i[0]].append(i[3])\n",
    "\n",
    "\n",
    "\n",
    "for i in driver_time_dict.keys():\n",
    "    total_time = 0\n",
    "    for j in driver_time_dict[i]:\n",
    "        total_time += j\n",
    "    \n",
    "    driver_time_dict[i] = total_time / 60 \n",
    "print(\"The total duration of the rides for this driver is\", driver_time_dict[\"002be0ffdc997bd5c50703158b7c2491\"])\n",
    "\n",
    "total_time_list = []\n",
    "for i in Driver_ID_LIST:\n",
    "    if i in driver_time_dict:\n",
    "        total_time_list.append(driver_time_dict[i])\n",
    "\n",
    "total_time_nparray = np.asarray(total_time_list).reshape(-1,1)"
   ]
  },
  {
   "cell_type": "code",
   "execution_count": 32,
   "metadata": {},
   "outputs": [
    {
     "name": "stdout",
     "output_type": "stream",
     "text": [
      "The month that the driver is onboard is 4\n"
     ]
    }
   ],
   "source": [
    "\"\"\"feature7: month (categorical) ---> march\"\"\"\n",
    "# Create a numpy array for march\n",
    "\n",
    "driver_onboard_dict = {}\n",
    "for i in driver_id_li:\n",
    "    driver_onboard_dict[i[0]] = int(i[1].split()[0].split(\"-\")[1])\n",
    "\n",
    "print(\"The month that the driver is onboard is\",driver_onboard_dict[\"11506b81721ca68ef019764de3d8edbd\"])\n",
    "\n",
    "march_list = []\n",
    "for i in Driver_ID_LIST:\n",
    "    if i in driver_onboard_dict:\n",
    "        if driver_onboard_dict[i] == 3:\n",
    "            march_list.append(1)\n",
    "        else:\n",
    "            march_list.append(0)\n",
    "\n",
    "march_nparray = np.asarray(march_list).reshape(-1,1)\n",
    "\n",
    "\"\"\"feature7: month (categorical) ---> april\"\"\"\n",
    "# Create a numpy array for april\n",
    "\n",
    "april_list = []\n",
    "for i in Driver_ID_LIST:\n",
    "    if i in driver_onboard_dict:\n",
    "        if driver_onboard_dict[i] == 4:\n",
    "            april_list.append(1)\n",
    "        else:\n",
    "            april_list.append(0)\n",
    "\n",
    "april_nparray = np.asarray(april_list).reshape(-1,1)\n",
    "\n",
    "\n",
    "\"\"\"feature7: month (categorical) ---> may\"\"\"\n",
    "# Create a numpy array for may\n",
    "\n",
    "may_list = []\n",
    "for i in Driver_ID_LIST:\n",
    "    if i in driver_onboard_dict:\n",
    "        if driver_onboard_dict[i] == 5:\n",
    "            may_list.append(1)\n",
    "        else:\n",
    "            may_list.append(0)\n",
    "\n",
    "may_nparray = np.asarray(may_list).reshape(-1,1)\n"
   ]
  },
  {
   "cell_type": "code",
   "execution_count": 33,
   "metadata": {},
   "outputs": [
    {
     "name": "stdout",
     "output_type": "stream",
     "text": [
      "The accepted time and the pickup time for this ride is ['19:29:43', '19:35:15']\n",
      "The time interval between accepted time and pickup time and the driver id is shown to be:\n",
      " [5.53, '689bdf87fb2de49f98bf4946cfaa5068']\n",
      "\n",
      "The averge interval between accepted time and pick-up time for a driver is 2.520227272727271\n"
     ]
    }
   ],
   "source": [
    "'''feature8: accepted to pickup interval time'''\n",
    "# Create a numpy array that contains the time inteveral between accpeted time to pickup time\n",
    "\n",
    "# Get rid of requested time, drop-off time, and arrive time\n",
    "ride_timenew = read('ride_timestamps.csv')\n",
    "ride_timenew = ride_timenew[ride_timenew.event != 'requested_at']\n",
    "ride_timenew = ride_timenew[ride_timenew.event != 'dropped_off_at']\n",
    "ride_timenew = ride_timenew[ride_timenew.event != 'arrived_at']\n",
    "ride_time_npnew = (ride_timenew).to_numpy()\n",
    "ride_time_linew = (ride_time_npnew).tolist()\n",
    "accept_pick_intervaldict = {}\n",
    "\n",
    "for k in ride_time_linew:\n",
    "    if k[0] in rideid_driverdict:\n",
    "        if k[0] not in accept_pick_intervaldict:\n",
    "            accept_pick_intervaldict[k[0]] = [k[2].split()[1]]\n",
    "        else:\n",
    "            accept_pick_intervaldict[k[0]].append(k[2].split()[1])\n",
    "print(\"The accepted time and the pickup time for this ride is\", accept_pick_intervaldict[\"00006efeb0d5e3ccad7d921ddeee9900\"])\n",
    "\n",
    "for i in accept_pick_intervaldict.keys():\n",
    "    accept_time = accept_pick_intervaldict[i][0].split(\":\")\n",
    "    pick_time = accept_pick_intervaldict[i][1].split(\":\")\n",
    "    \n",
    "    accept_hour = int(accept_time[0])\n",
    "    accept_minute = int(accept_time[1])\n",
    "    accept_second = int(accept_time[2])\n",
    "    \n",
    "    pick_hour = int(pick_time[0])\n",
    "    pick_minute = int(pick_time[1])\n",
    "    pick_second = int(pick_time[2])\n",
    "    \n",
    "    if pick_hour == 0 and accept_hour == 23:\n",
    "        pick_hour = 24\n",
    "    time_difference = (pick_hour - accept_hour) * 60 + (pick_minute - accept_minute) + (pick_second - accept_second)/60\n",
    "    time_difference = round(time_difference, 2)\n",
    "    accept_pick_intervaldict[i] = [time_difference]\n",
    "    \n",
    "for i in rideid_driverdict.keys():\n",
    "    if i in accept_pick_intervaldict:\n",
    "        accept_pick_intervaldict[i].append(rideid_driverdict[i][0])\n",
    "        \n",
    "print(\"The time interval between accepted time and pickup time and the driver id is shown to be:\\n\",accept_pick_intervaldict[\"00006efeb0d5e3ccad7d921ddeee9900\"])\n",
    "print()\n",
    "\n",
    "driver_interval_dict = {}\n",
    "for i in accept_pick_intervaldict.keys():\n",
    "    if accept_pick_intervaldict[i][1] not in driver_interval_dict:\n",
    "        driver_interval_dict[accept_pick_intervaldict[i][1]] = [accept_pick_intervaldict[i][0]]\n",
    "    else:\n",
    "        driver_interval_dict[accept_pick_intervaldict[i][1]].append(accept_pick_intervaldict[i][0])\n",
    "\n",
    "\n",
    "for i in driver_interval_dict:\n",
    "    total = 0\n",
    "    num = 0\n",
    "    for j in driver_interval_dict[i]:\n",
    "        total += j\n",
    "        num += 1\n",
    "    driver_interval_dict[i] = total / num\n",
    "print(\"The averge interval between accepted time and pick-up time for a driver is\", driver_interval_dict[\"039da9c077e17af98ca8530e4d7975f1\"])\n",
    "\n",
    "accept_pick_list = []\n",
    "for i in Driver_ID_LIST:\n",
    "    if i in driver_interval_dict:\n",
    "        accept_pick_list.append(driver_interval_dict[i])\n",
    "\n",
    "accept_pick_nparray = np.asarray(accept_pick_list).reshape(-1,1)\n",
    "\n"
   ]
  },
  {
   "cell_type": "code",
   "execution_count": 34,
   "metadata": {},
   "outputs": [
    {
     "name": "stdout",
     "output_type": "stream",
     "text": [
      "The first row of the featurelist is [1.39560151 0.46925237 0.16818195 0.31962893 0.20787298]\n"
     ]
    }
   ],
   "source": [
    "\"\"\"Create a featurelist putting all feature components together\"\"\"\n",
    "# We have used backward elimination to get rid of the features that doesn't contribute a lot\n",
    "# to our target value: Lifetime Value. \n",
    "# The features that we comment are the ones that we removed\n",
    "\n",
    "# We also have standardized the dataset\n",
    "\n",
    "#featurelist = np.append(driver_id_nparray,driver_days_nparray,axis = 1)\n",
    "featurelist = driver_days_nparray\n",
    "#featurelist = Driver_primetime_nparrays\n",
    "featurelist = np.append(featurelist, Driver_primetime_nparrays,axis = 1)\n",
    "featurelist = np.append(featurelist,total_dist_nparray ,axis = 1)\n",
    "featurelist = np.append(featurelist, total_numrides_nparray,axis = 1)\n",
    "featurelist = np.append(featurelist, total_time_nparray,axis = 1)\n",
    "#featurelist = np.append(featurelist,march_nparray ,axis = 1)\n",
    "#featurelist = np.append(featurelist, april_nparray,axis = 1)\n",
    "#featurelist = np.append(featurelist,may_nparray ,axis = 1)\n",
    "#featurelist = np.append(featurelist,accept_pick_nparray,axis = 1)\n",
    "featurelist = np.array(featurelist)\n",
    "#feature scaling\n",
    "featurelist = StandardScaler().fit_transform(featurelist)\n",
    "\n",
    "print(\"The first row of the featurelist is\", featurelist[0])"
   ]
  },
  {
   "cell_type": "code",
   "execution_count": 35,
   "metadata": {},
   "outputs": [],
   "source": [
    "\"\"\"Reshape our target value: Lifetime Value\"\"\"\n",
    "\n",
    "LFTlist = np.array(driver_LTV_nparrays).reshape(len(driver_LTV_nparrays))\n"
   ]
  },
  {
   "cell_type": "code",
   "execution_count": 36,
   "metadata": {},
   "outputs": [],
   "source": [
    "\"\"\"split our data into training data and testing data\"\"\"\n",
    "\"\"\"We use our training data to make a model, and utilize our testing data to calculate the MAPE\"\"\"\n",
    "\"\"\"which stands for mean absolute percent error.\"\"\"\n",
    "\n",
    "train_features, test_features, train_labels, test_labels = train_test_split(featurelist, LFTlist, test_size = 0.25, random_state = 42)"
   ]
  },
  {
   "cell_type": "code",
   "execution_count": 37,
   "metadata": {},
   "outputs": [
    {
     "name": "stdout",
     "output_type": "stream",
     "text": [
      "Training Features Shape:  (627, 5)\n",
      "Training Labels Shape:  (627,)\n",
      "Testing Features Shape:  (210, 5)\n",
      "Testing Labels Shape:  (210,)\n"
     ]
    }
   ],
   "source": [
    "\"\"\"Make sure the shapes of our training data and testing data are consistent\"\"\"\n",
    "\n",
    "print('Training Features Shape: ', train_features.shape)\n",
    "print('Training Labels Shape: ', train_labels.shape)\n",
    "print('Testing Features Shape: ', test_features.shape)\n",
    "print('Testing Labels Shape: ', test_labels.shape)"
   ]
  },
  {
   "cell_type": "code",
   "execution_count": 38,
   "metadata": {},
   "outputs": [
    {
     "name": "stdout",
     "output_type": "stream",
     "text": [
      "Mean Absolute Error:$ 103.339 .\n",
      "Mean Absolute Percent Error (MAPE): 3.4497559611463604 %.\n",
      "Accuracy: 96.55 %.\n"
     ]
    }
   ],
   "source": [
    "\"\"\"method 1: random forest\"\"\"\n",
    "\n",
    "rf = RandomForestRegressor(n_estimators = 1000, random_state = 187)\n",
    "rf.fit(train_features, train_labels)\n",
    "#Make Predictions\n",
    "#Use the forest's predict method on the test data \n",
    "predictions = rf.predict(test_features)\n",
    "\n",
    "#Calculate the absolute errors\n",
    "errors = abs(predictions - test_labels)\n",
    "\n",
    "#print out the mean absolute error\n",
    "print('Mean Absolute Error:' \"$\", round(np.mean(errors), 3), '.')\n",
    "# Calculate mean absolute percentage error\n",
    "mape = 100 * (errors / test_labels)\n",
    "\n",
    "# Calculate and display accuracy\n",
    "accuracy = 100 - np.mean(mape)\n",
    "print(\"Mean Absolute Percent Error (MAPE):\", np.mean(mape), '%.')\n",
    "print('Accuracy:', round(accuracy, 3), '%.')"
   ]
  },
  {
   "cell_type": "code",
   "execution_count": 39,
   "metadata": {},
   "outputs": [
    {
     "name": "stdout",
     "output_type": "stream",
     "text": [
      "The coefficient of determination of R2 of the prediction is 0.885624390293917\n"
     ]
    }
   ],
   "source": [
    "\"\"\"Method 2: Linear Regression\"\"\"\n",
    "\n",
    "clf = svm.SVR(kernel = \"linear\")\n",
    "clf.fit(train_features,train_labels)\n",
    "print(\"The coefficient of determination of R2 of the prediction is\",clf.score(train_features, train_labels))"
   ]
  },
  {
   "cell_type": "code",
   "execution_count": 40,
   "metadata": {},
   "outputs": [
    {
     "name": "stdout",
     "output_type": "stream",
     "text": [
      "Showcase the predicted value and the actual value\n",
      "\n",
      "Model: 3331.512936742913, Actual: 4226.796682176512\n",
      "Model: 3631.794064244631, Actual: 4046.4623292206497\n",
      "Model: 1236.8175579465187, Actual: 812.2827949136291\n",
      "Model: 1116.5589954542882, Actual: 956.2473532765456\n",
      "Model: 3089.309358516354, Actual: 3714.3262096078697\n",
      "Model: 3957.159380930348, Actual: 4670.535149216064\n",
      "Model: 6127.595416649936, Actual: 8115.041149204423\n",
      "Model: 1159.6833681073026, Actual: 902.3384603115002\n",
      "Model: 4616.082992736307, Actual: 6122.861609837136\n",
      "Model: 1438.3636736943631, Actual: 456.4475758069375\n",
      "Model: 3084.5781470342636, Actual: 2899.4532139655753\n",
      "Model: 2802.7414156874293, Actual: 3017.254235402269\n",
      "Model: 6569.30610923896, Actual: 8899.713414317466\n",
      "Model: 3707.8400369333867, Actual: 4406.258797995462\n",
      "Model: 3461.2903362721163, Actual: 3495.996852692181\n",
      "Model: 5518.98134148965, Actual: 6828.055628634553\n",
      "Model: 2501.295119647762, Actual: 2369.630901937676\n",
      "Model: 3171.2382493483674, Actual: 3585.3974141864664\n",
      "Model: 669.1151562889463, Actual: 571.6063733175624\n",
      "Model: 4158.276723102006, Actual: 5090.935417620832\n",
      "Model: 1660.1647115439437, Actual: 717.5539007011249\n",
      "Model: 3363.815514044506, Actual: 3071.144354394557\n",
      "Model: 1206.5259714981125, Actual: 304.5626810953542\n",
      "Model: 2904.12787912294, Actual: 3099.823238705029\n",
      "Model: 3721.9593428315543, Actual: 3948.276516980519\n",
      "Model: 369.369830869568, Actual: 255.4581149672333\n",
      "Model: 3214.2269375714563, Actual: 3804.870769868046\n",
      "Model: 1131.4746971407917, Actual: 447.65549724270414\n",
      "Model: 5337.175894858463, Actual: 6392.6821666825945\n",
      "Model: 3697.2686592319196, Actual: 3668.476197964467\n",
      "Model: 1029.3523186258988, Actual: 498.7662322812083\n",
      "Model: 3383.6670201970896, Actual: 3977.041547512103\n",
      "Model: 5776.182860704688, Actual: 7337.807041306163\n",
      "Model: 6300.605348013636, Actual: 8056.936410106991\n",
      "Model: 6817.164108136811, Actual: 9321.5440680223\n",
      "Model: 1036.3600272183605, Actual: 429.3557084076375\n",
      "Model: 1035.5108497303588, Actual: 1021.8759011036833\n",
      "Model: 1242.5566865261721, Actual: 923.9356811601875\n",
      "Model: 3039.5156961014472, Actual: 3368.1988632003226\n",
      "Model: 3410.0747597674517, Actual: 3833.9033190945956\n",
      "Model: 4373.316951267393, Actual: 5200.191155589395\n",
      "Model: 4348.949141651315, Actual: 5093.92924181741\n",
      "Model: 5243.263562307573, Actual: 6297.447313786815\n",
      "Model: 3730.457295199059, Actual: 4469.2165053751005\n",
      "Model: 743.3014165527588, Actual: 725.964701822475\n",
      "Model: 5750.929092015884, Actual: 7545.7097583467985\n",
      "Model: 3312.367744357096, Actual: 3839.2597956289783\n",
      "Model: 3721.2902866333043, Actual: 4333.691184125942\n",
      "Model: 1183.9221804848487, Actual: 675.8285760418834\n",
      "Model: 827.9281996757531, Actual: 676.5156554177623\n",
      "Model: 3846.0370098116277, Actual: 4420.337250872605\n",
      "Model: 5229.380201853471, Actual: 6287.3619801189225\n",
      "Model: 4785.830786400392, Actual: 6120.6093421565165\n",
      "Model: 3819.204364680516, Actual: 4524.715442821556\n",
      "Model: 4347.61183752609, Actual: 5591.600695048334\n",
      "Model: 2991.7751255456997, Actual: 2739.680896398218\n",
      "Model: 2686.768926537968, Actual: 2797.93147218696\n",
      "Model: 3987.5970365616417, Actual: 4825.669800926955\n",
      "Model: 2609.8558103566193, Actual: 2661.8476658066825\n",
      "Model: 3882.557771366134, Actual: 4512.512062826295\n",
      "Model: 1028.5067536190973, Actual: 862.8424449834874\n",
      "Model: 2766.4877467011897, Actual: 2308.5875967716875\n",
      "Model: 3631.244036901372, Actual: 4071.989589252618\n",
      "Model: 3202.8032143248724, Actual: 3293.671427289314\n",
      "Model: 5072.119338899964, Actual: 6557.715868228429\n",
      "Model: 198.36777435814247, Actual: 258.64573177888747\n",
      "Model: 3136.284228332332, Actual: 3017.78768005958\n",
      "Model: 3644.6569610698657, Actual: 4476.529317592913\n",
      "Model: 4270.54105458622, Actual: 5553.031585979576\n",
      "Model: 1165.8260343199404, Actual: 663.338378706529\n",
      "Model: 2988.4448473879875, Actual: 3051.0738504230576\n",
      "Model: 4234.7650010655425, Actual: 5191.235644652518\n",
      "Model: 491.26326586020014, Actual: 316.1653184965083\n",
      "Model: 998.714146928379, Actual: 633.6345859698791\n",
      "Model: 1576.4021529607032, Actual: 905.1690505733585\n",
      "Model: 1061.2295818324205, Actual: 618.2429836486292\n",
      "Model: 4370.840853120197, Actual: 5698.931247930248\n",
      "Model: 1547.1546101202007, Actual: 834.1676268920165\n",
      "Model: 3235.018127046435, Actual: 3538.373294261636\n",
      "Model: 1150.83686105273, Actual: 577.6432897106375\n",
      "Model: 5799.314487976591, Actual: 7619.665587980348\n",
      "Model: 654.3239636590829, Actual: 532.3074667180208\n",
      "Model: 3913.6886325056125, Actual: 4303.856733578831\n",
      "Model: 4215.37821674279, Actual: 4789.631231764107\n",
      "Model: 3024.8508704499136, Actual: 3519.9926129912765\n",
      "Model: 884.4458900067109, Actual: 346.35582363652503\n",
      "Model: 3549.9881548841267, Actual: 3946.004320706942\n",
      "Model: 2339.834804063884, Actual: 2486.20094692335\n",
      "Model: 3050.8664664444577, Actual: 3536.091144501103\n",
      "Model: 4763.204059569671, Actual: 5483.307680118152\n",
      "Model: 3657.952170250611, Actual: 3868.6414068374343\n",
      "Model: 3327.1198382338926, Actual: 3353.7333050450875\n",
      "Model: 6441.994193895949, Actual: 8524.034890561714\n",
      "Model: 913.4618838723729, Actual: 542.2277687069292\n",
      "Model: 3998.376832677153, Actual: 4549.554351308998\n",
      "Model: 778.7416017662754, Actual: 499.3527432741375\n",
      "Model: 3264.5517133554663, Actual: 3535.415998774488\n",
      "Model: 1527.7897646695883, Actual: 1115.5108807728\n",
      "Model: 1240.4091189497842, Actual: 539.7400762317624\n",
      "Model: 2842.6734404685426, Actual: 2967.497028487323\n",
      "Model: 3958.2246824756394, Actual: 4393.230058171002\n",
      "Model: 3249.440794769156, Actual: 3594.048702095317\n",
      "Model: 3881.138347382598, Actual: 4766.836651754006\n",
      "Model: 4106.247885624505, Actual: 4409.56140121312\n",
      "Model: 3068.2998950927745, Actual: 3240.1904747589588\n",
      "Model: 2433.6464984980494, Actual: 2941.156770115635\n",
      "Model: 826.1035680937532, Actual: 586.2664103940085\n",
      "Model: 3614.0771421478526, Actual: 3561.4168009383607\n",
      "Model: 4324.749342676377, Actual: 4786.320686469293\n",
      "Model: 1056.4807279765325, Actual: 300.7562955487208\n",
      "Model: 4165.135019800622, Actual: 4851.313716848153\n",
      "Model: 5483.361993104309, Actual: 6996.494650904225\n",
      "Model: 1080.6292044696352, Actual: 433.8746962326417\n",
      "Model: 1351.707507501853, Actual: 709.1548458799041\n",
      "Model: 4753.590926399232, Actual: 6050.183475252204\n",
      "Model: 3366.193520241912, Actual: 3382.0429755686664\n",
      "Model: 726.4560741708951, Actual: 514.0686419509417\n",
      "Model: 1374.5000771457817, Actual: 519.698229634354\n",
      "Model: 596.6553275097062, Actual: 542.1015767081208\n",
      "Model: 578.1343533459208, Actual: 482.9680709973541\n",
      "Model: 1189.9975112883149, Actual: 326.6731713302417\n",
      "Model: 6661.01789650721, Actual: 8469.259862361167\n",
      "Model: 1319.5371141622884, Actual: 784.3304675223746\n",
      "Model: 2619.5886582663697, Actual: 2520.047478806716\n",
      "Model: 6246.528229057496, Actual: 8156.935400039808\n",
      "Model: 1172.4447767096126, Actual: 790.7791971438417\n",
      "Model: 1186.1707875632162, Actual: 865.0032084748873\n",
      "Model: 2903.6999646345294, Actual: 2600.4849588011452\n",
      "Model: 1535.6647539377468, Actual: 995.0229463903997\n",
      "Model: 1708.709949848642, Actual: 753.3115448394377\n",
      "Model: 1746.7020574199644, Actual: 730.1610954377503\n",
      "Model: 2247.066156878174, Actual: 2135.460411598379\n",
      "Model: 3806.0493356979955, Actual: 4166.22478799396\n",
      "Model: 857.7400555620422, Actual: 399.1844435737875\n",
      "Model: 3182.7749909867784, Actual: 3348.788106411259\n",
      "Model: 691.8184771169949, Actual: 423.8823790857499\n",
      "Model: 1257.0590979641408, Actual: 944.7211426405585\n",
      "Model: 3271.952579281688, Actual: 3448.9218285809966\n",
      "Model: 1107.0299393755802, Actual: 348.52053831525\n",
      "Model: 5772.215784438235, Actual: 7853.303112146963\n",
      "Model: 3020.939147140747, Actual: 3464.2011057499167\n",
      "Model: 2722.386543063105, Actual: 2475.9927084268425\n",
      "Model: 947.7897175140774, Actual: 289.95407756126247\n",
      "Model: 1911.8617502210454, Actual: 1243.2702120810666\n",
      "Model: 3059.040519250725, Actual: 2930.0825997858196\n",
      "Model: 1726.913705724144, Actual: 1245.3523568996206\n",
      "Model: 3071.295733318048, Actual: 3684.1665271291704\n",
      "Model: 720.1507756918463, Actual: 363.6529291734166\n",
      "Model: 4819.538903326314, Actual: 5692.804591182193\n",
      "Model: 5406.747224078041, Actual: 6733.660960307506\n",
      "Model: 7436.470426984912, Actual: 10012.712173923688\n",
      "Model: 3640.844168069804, Actual: 4279.865883766006\n",
      "Model: 3952.4493989521543, Actual: 4515.54967446342\n",
      "Model: 867.0852849823532, Actual: 415.5942449764334\n",
      "Model: 3437.8842694906198, Actual: 3504.900412600396\n",
      "Model: 1374.4304609425888, Actual: 415.9028722454001\n",
      "Model: 2555.2458966447093, Actual: 2062.9971649315885\n",
      "Model: 3839.1597733679537, Actual: 4658.782381354879\n",
      "Model: 777.111935332538, Actual: 631.0768325908583\n",
      "Model: 1458.5465246630024, Actual: 482.42778840288753\n",
      "Model: 6012.274731532467, Actual: 7634.539207630505\n",
      "Model: 4634.074513096718, Actual: 6052.142374422409\n",
      "Model: 4577.5660404952105, Actual: 5676.1685888295615\n",
      "Model: 1323.4377567738459, Actual: 677.5970318991666\n",
      "Model: 5537.590184426202, Actual: 6685.534740714883\n",
      "Model: 706.2174286299723, Actual: 198.87036988618334\n",
      "Model: 4231.592820772266, Actual: 5231.396509224422\n",
      "Model: 3140.6483385384972, Actual: 3359.046975826702\n",
      "Model: 3351.17116079469, Actual: 3257.2751091347623\n",
      "Model: 2809.347500672895, Actual: 2975.6993689837323\n",
      "Model: 1510.7826643139517, Actual: 899.7070187164294\n",
      "Model: 1055.1413599684831, Actual: 485.5831543359542\n",
      "Model: 1047.9167056553315, Actual: 542.0410989782083\n",
      "Model: 270.26856286596103, Actual: 285.2896747463375\n",
      "Model: 4192.712819711064, Actual: 4796.495899225694\n",
      "Model: 3735.2507024651204, Actual: 4372.331155073582\n",
      "Model: 727.4815464662779, Actual: 462.2369019583957\n",
      "Model: 1438.3880584495012, Actual: 774.4794964290331\n",
      "Model: 1077.2189744602113, Actual: 1196.4053757604086\n",
      "Model: 5320.088387883972, Actual: 7068.523698442158\n",
      "Model: 1575.7356406908887, Actual: 1146.888529794\n",
      "Model: 499.40510685942627, Actual: 398.87321605384994\n",
      "Model: 4043.468519533246, Actual: 4302.653319892255\n",
      "Model: 4276.316976561044, Actual: 5090.091548939565\n",
      "Model: 1290.0831314410243, Actual: 558.9428895930874\n",
      "Model: 2564.034221897102, Actual: 2576.4231572207036\n",
      "Model: 2613.1320127579893, Actual: 2559.5102713628867\n",
      "Model: 821.6779179843556, Actual: 510.1337568773001\n",
      "Model: 969.9573186296741, Actual: 510.940097105925\n",
      "Model: 1240.7987723613487, Actual: 756.5265413136038\n",
      "Model: 1056.6016089040595, Actual: 668.6864741141877\n",
      "Model: 2904.458228336633, Actual: 2737.231366270104\n",
      "Model: 1082.8238399490856, Actual: 673.0947825932666\n",
      "Model: 3775.9687576679644, Actual: 4142.390443420497\n",
      "Model: 2597.9216247100408, Actual: 2821.27594437795\n",
      "Model: 902.842789505263, Actual: 494.0673651053917\n",
      "Model: 2643.8957395022126, Actual: 2865.8627055872166\n",
      "Model: 973.3138107313507, Actual: 321.9376428902958\n",
      "Model: 5071.672536870735, Actual: 6867.29315821445\n",
      "Model: 3857.7452484061414, Actual: 4923.447127550085\n",
      "Model: 3104.471916170245, Actual: 3316.2985467757644\n",
      "Model: 1213.0478983855862, Actual: 442.72019661700415\n",
      "Model: 646.2706697727613, Actual: 441.2077354612625\n",
      "Model: 1080.6833319805532, Actual: 731.7890402799\n",
      "Model: 1837.7285908204171, Actual: 1169.2710991686627\n",
      "Model: 1251.2309835645317, Actual: 747.7213759816627\n",
      "Model: 3069.728153659119, Actual: 3095.4264090243505\n",
      "Model: 6539.949480374464, Actual: 9071.052005948008\n",
      "Model: 3917.079849067254, Actual: 5012.540537097024\n",
      "Model: 1012.3714516821728, Actual: 526.0308848297709\n",
      "\n",
      "Mean Absolute error: $ 621.2 .\n",
      "Mean Absolute Percent Error (MAPE) 55.68979180994666 %.\n",
      "Accuracy: 44.31 %.\n"
     ]
    }
   ],
   "source": [
    "# Calulate MAPE and Accuracy for Linear Regression\n",
    "\n",
    "errors = 0\n",
    "pmax_pred = np.empty(test_labels.shape)\n",
    "i = 0\n",
    "print(\"Showcase the predicted value and the actual value\")\n",
    "print()\n",
    "for X,y in zip(test_features, test_labels):\n",
    "    print(f\"Model: {clf.predict([X])[0]}, Actual: {y}\")\n",
    "    errors += abs(clf.predict([X])[0] - y)\n",
    "    pmax_pred[i] = clf.predict([X])[0]\n",
    "    i += 1\n",
    "errors = errors / test_features.shape[0]\n",
    "\n",
    "print()\n",
    "print('Mean Absolute error:', '$',round(errors, 2) , '.')\n",
    "\n",
    "# Calculate mean absolute percentage error\n",
    "mape = 100 * (errors / test_labels)\n",
    "\n",
    "# Calculate and display accuracy\n",
    "accuracy = 100 - np.mean(mape)\n",
    "\n",
    "print(\"Mean Absolute Percent Error (MAPE)\", np.mean(mape), '%.')\n",
    "print('Accuracy:', round(accuracy, 2), '%.')\n"
   ]
  },
  {
   "cell_type": "code",
   "execution_count": 41,
   "metadata": {},
   "outputs": [
    {
     "name": "stdout",
     "output_type": "stream",
     "text": [
      "0.2104549143564043\n"
     ]
    },
    {
     "name": "stderr",
     "output_type": "stream",
     "text": [
      "//anaconda3/lib/python3.7/site-packages/sklearn/svm/base.py:193: FutureWarning: The default value of gamma will change from 'auto' to 'scale' in version 0.22 to account better for unscaled features. Set gamma explicitly to 'auto' or 'scale' to avoid this warning.\n",
      "  \"avoid this warning.\", FutureWarning)\n"
     ]
    }
   ],
   "source": [
    "\"\"\"Method 3 Polynomial Regression\"\"\"\n",
    "clf = svm.SVR(kernel = \"poly\", degree = 6)\n",
    "clf.fit(train_features,train_labels)\n",
    "print(clf.score(train_features, train_labels))"
   ]
  },
  {
   "cell_type": "code",
   "execution_count": 42,
   "metadata": {},
   "outputs": [
    {
     "name": "stdout",
     "output_type": "stream",
     "text": [
      "Model: 2934.6839634111084, Actual: 4226.796682176512\n",
      "Model: 2937.644469325679, Actual: 4046.4623292206497\n",
      "Model: 2927.7699956461674, Actual: 812.2827949136291\n",
      "Model: 2871.3068203075522, Actual: 956.2473532765456\n",
      "Model: 2938.09832583753, Actual: 3714.3262096078697\n",
      "Model: 2941.354215871543, Actual: 4670.535149216064\n",
      "Model: 3213.9464025542234, Actual: 8115.041149204423\n",
      "Model: 2855.811809295504, Actual: 902.3384603115002\n",
      "Model: 2792.8708183525314, Actual: 6122.861609837136\n",
      "Model: -1520.0228302994406, Actual: 456.4475758069375\n",
      "Model: 2932.6643646259417, Actual: 2899.4532139655753\n",
      "Model: 2938.065912803372, Actual: 3017.254235402269\n",
      "Model: 4453.249327566109, Actual: 8899.713414317466\n",
      "Model: 2938.255650106363, Actual: 4406.258797995462\n",
      "Model: 2927.01767400334, Actual: 3495.996852692181\n",
      "Model: 2046.137115364353, Actual: 6828.055628634553\n",
      "Model: 2938.0684955988045, Actual: 2369.630901937676\n",
      "Model: 2938.03403027576, Actual: 3585.3974141864664\n",
      "Model: 2419.0711410051763, Actual: 571.6063733175624\n",
      "Model: 2939.870177903361, Actual: 5090.935417620832\n",
      "Model: 2952.7042147499137, Actual: 717.5539007011249\n",
      "Model: 2910.5233036355717, Actual: 3071.144354394557\n",
      "Model: 2950.6992711588655, Actual: 304.5626810953542\n",
      "Model: 2938.0855762519445, Actual: 3099.823238705029\n",
      "Model: 2928.8431998825467, Actual: 3948.276516980519\n",
      "Model: 1700.4326293178049, Actual: 255.4581149672333\n",
      "Model: 2937.299479490269, Actual: 3804.870769868046\n",
      "Model: 2946.6742204169427, Actual: 447.65549724270414\n",
      "Model: 2945.1289806927884, Actual: 6392.6821666825945\n",
      "Model: 2916.2302013863614, Actual: 3668.476197964467\n",
      "Model: 2930.8505593331993, Actual: 498.7662322812083\n",
      "Model: 2938.1432479153204, Actual: 3977.041547512103\n",
      "Model: 2524.2996217114796, Actual: 7337.807041306163\n",
      "Model: 4408.142877088083, Actual: 8056.936410106991\n",
      "Model: 3115.6298030055946, Actual: 9321.5440680223\n",
      "Model: 2944.944002957069, Actual: 429.3557084076375\n",
      "Model: 2706.51925061064, Actual: 1021.8759011036833\n",
      "Model: 2908.7658495969777, Actual: 923.9356811601875\n",
      "Model: 2937.2610786639357, Actual: 3368.1988632003226\n",
      "Model: 2937.9890517864396, Actual: 3833.9033190945956\n",
      "Model: 2944.917936187123, Actual: 5200.191155589395\n",
      "Model: 2928.6608664784003, Actual: 5093.92924181741\n",
      "Model: 2923.4406609247058, Actual: 6297.447313786815\n",
      "Model: 2938.4924393329343, Actual: 4469.2165053751005\n",
      "Model: 2373.958163950697, Actual: 725.964701822475\n",
      "Model: 3128.6834690869964, Actual: 7545.7097583467985\n",
      "Model: 2938.1167575485433, Actual: 3839.2597956289783\n",
      "Model: 2937.2470818883307, Actual: 4333.691184125942\n",
      "Model: 2942.0541006564176, Actual: 675.8285760418834\n",
      "Model: 2668.904083008556, Actual: 676.5156554177623\n",
      "Model: 2938.885720135441, Actual: 4420.337250872605\n",
      "Model: 2946.69216678188, Actual: 6287.3619801189225\n",
      "Model: 2977.2200756780453, Actual: 6120.6093421565165\n",
      "Model: 2938.1173659578176, Actual: 4524.715442821556\n",
      "Model: 2973.176676555071, Actual: 5591.600695048334\n",
      "Model: 2937.6222904946385, Actual: 2739.680896398218\n",
      "Model: 2938.085455046694, Actual: 2797.93147218696\n",
      "Model: 2942.8163460644887, Actual: 4825.669800926955\n",
      "Model: 2935.092229054442, Actual: 2661.8476658066825\n",
      "Model: 2937.494590972215, Actual: 4512.512062826295\n",
      "Model: 2834.862860308633, Actual: 862.8424449834874\n",
      "Model: 2937.3406549346673, Actual: 2308.5875967716875\n",
      "Model: 2937.957919490509, Actual: 4071.989589252618\n",
      "Model: 2937.898107503688, Actual: 3293.671427289314\n",
      "Model: 3046.1939450694654, Actual: 6557.715868228429\n",
      "Model: -951.6882993422482, Actual: 258.64573177888747\n",
      "Model: 2937.6373912189674, Actual: 3017.78768005958\n",
      "Model: 2938.3469206987033, Actual: 4476.529317592913\n",
      "Model: 2962.255426621628, Actual: 5553.031585979576\n",
      "Model: 2942.2040869231273, Actual: 663.338378706529\n",
      "Model: 2938.080145028032, Actual: 3051.0738504230576\n",
      "Model: 2937.3925484948045, Actual: 5191.235644652518\n",
      "Model: 2235.8260825119314, Actual: 316.1653184965083\n",
      "Model: 2869.2437443467134, Actual: 633.6345859698791\n",
      "Model: 2945.978993243481, Actual: 905.1690505733585\n",
      "Model: 2922.0415925011794, Actual: 618.2429836486292\n",
      "Model: 2977.5709755689722, Actual: 5698.931247930248\n",
      "Model: 2955.4896393198846, Actual: 834.1676268920165\n",
      "Model: 2938.005368029769, Actual: 3538.373294261636\n",
      "Model: 2899.5117057374287, Actual: 577.6432897106375\n",
      "Model: 3049.540979043199, Actual: 7619.665587980348\n",
      "Model: 2386.1976522351174, Actual: 532.3074667180208\n",
      "Model: 2929.7645928543025, Actual: 4303.856733578831\n",
      "Model: 2917.056964041182, Actual: 4789.631231764107\n",
      "Model: 2938.0332189276733, Actual: 3519.9926129912765\n",
      "Model: 2745.466231715035, Actual: 346.35582363652503\n",
      "Model: 2938.085752735436, Actual: 3946.004320706942\n",
      "Model: 2937.171864205526, Actual: 2486.20094692335\n",
      "Model: 2938.090708676587, Actual: 3536.091144501103\n",
      "Model: 2921.999994341726, Actual: 5483.307680118152\n",
      "Model: 2934.8591868592343, Actual: 3868.6414068374343\n",
      "Model: 2935.9330170509893, Actual: 3353.7333050450875\n",
      "Model: 3385.9049933827528, Actual: 8524.034890561714\n",
      "Model: 2857.1208560628647, Actual: 542.2277687069292\n",
      "Model: 2939.1030388439767, Actual: 4549.554351308998\n",
      "Model: 2647.994767130144, Actual: 499.3527432741375\n",
      "Model: 2937.6967442839036, Actual: 3535.415998774488\n",
      "Model: 2935.7370878287265, Actual: 1115.5108807728\n",
      "Model: 2941.509561973441, Actual: 539.7400762317624\n",
      "Model: 2939.4707785304977, Actual: 2967.497028487323\n",
      "Model: 2920.741448745158, Actual: 4393.230058171002\n",
      "Model: 2937.975033733855, Actual: 3594.048702095317\n",
      "Model: 2940.5358138071388, Actual: 4766.836651754006\n",
      "Model: 2894.8893931476523, Actual: 4409.56140121312\n",
      "Model: 2938.0279357191293, Actual: 3240.1904747589588\n",
      "Model: 2934.931075834301, Actual: 2941.156770115635\n",
      "Model: 2779.9599487675064, Actual: 586.2664103940085\n",
      "Model: 2919.3133408091308, Actual: 3561.4168009383607\n",
      "Model: 2920.7324356216322, Actual: 4786.320686469293\n",
      "Model: 2950.2956002512246, Actual: 300.7562955487208\n",
      "Model: 2936.1867497844414, Actual: 4851.313716848153\n",
      "Model: 3196.800349002437, Actual: 6996.494650904225\n",
      "Model: 2943.619776955819, Actual: 433.8746962326417\n",
      "Model: 2942.7676583430903, Actual: 709.1548458799041\n",
      "Model: 2953.9764506418824, Actual: 6050.183475252204\n",
      "Model: 2936.824996774861, Actual: 3382.0429755686664\n",
      "Model: 2444.568779753164, Actual: 514.0686419509417\n",
      "Model: 2976.0539416520255, Actual: 519.698229634354\n",
      "Model: 1676.5563129710538, Actual: 542.1015767081208\n",
      "Model: 2159.9567311016854, Actual: 482.9680709973541\n",
      "Model: 2967.257582887174, Actual: 326.6731713302417\n",
      "Model: 5056.5204664876055, Actual: 8469.259862361167\n",
      "Model: 2940.7601171525607, Actual: 784.3304675223746\n",
      "Model: 2938.086616426049, Actual: 2520.047478806716\n",
      "Model: 624.3258749713291, Actual: 8156.935400039808\n",
      "Model: 1318.0833918010067, Actual: 790.7791971438417\n",
      "Model: 2926.9823942195353, Actual: 865.0032084748873\n",
      "Model: 2937.870822817649, Actual: 2600.4849588011452\n",
      "Model: 2942.347219904322, Actual: 995.0229463903997\n",
      "Model: 2950.057323459671, Actual: 753.3115448394377\n",
      "Model: 2940.5418656729144, Actual: 730.1610954377503\n",
      "Model: 2938.0259525681317, Actual: 2135.460411598379\n",
      "Model: 2936.7002180414734, Actual: 4166.22478799396\n",
      "Model: 2899.785663390131, Actual: 399.1844435737875\n",
      "Model: 2937.8741137203815, Actual: 3348.788106411259\n",
      "Model: 2558.467741228276, Actual: 423.8823790857499\n",
      "Model: 2909.83901498206, Actual: 944.7211426405585\n",
      "Model: 2937.7658481565118, Actual: 3448.9218285809966\n",
      "Model: 2980.803611239192, Actual: 348.52053831525\n",
      "Model: 3713.8092230897196, Actual: 7853.303112146963\n",
      "Model: 2938.0900386451453, Actual: 3464.2011057499167\n",
      "Model: 2937.9291586492504, Actual: 2475.9927084268425\n",
      "Model: 2945.077955744791, Actual: 289.95407756126247\n",
      "Model: 2898.2319486972387, Actual: 1243.2702120810666\n",
      "Model: 2937.610558647961, Actual: 2930.0825997858196\n",
      "Model: 2944.592170203235, Actual: 1245.3523568996206\n",
      "Model: 2938.0805076354436, Actual: 3684.1665271291704\n",
      "Model: 2789.5766676639664, Actual: 363.6529291734166\n",
      "Model: 2940.5065329607046, Actual: 5692.804591182193\n",
      "Model: 3056.781550920527, Actual: 6733.660960307506\n",
      "Model: 4844.912662109554, Actual: 10012.712173923688\n",
      "Model: 2937.795020695744, Actual: 4279.865883766006\n",
      "Model: 2938.484141448066, Actual: 4515.54967446342\n",
      "Model: 2821.7386017433296, Actual: 415.5942449764334\n",
      "Model: 2933.304529740429, Actual: 3504.900412600396\n",
      "Model: 2829.8610299068105, Actual: 415.9028722454001\n",
      "Model: 2937.951625672519, Actual: 2062.9971649315885\n",
      "Model: 2942.9660956717566, Actual: 4658.782381354879\n",
      "Model: 2565.8130372049086, Actual: 631.0768325908583\n",
      "Model: 2945.701047503136, Actual: 482.42778840288753\n",
      "Model: 3030.7259135415757, Actual: 7634.539207630505\n",
      "Model: 2939.8443623127446, Actual: 6052.142374422409\n",
      "Model: 2941.5917474475236, Actual: 5676.1685888295615\n",
      "Model: 2945.6446045626, Actual: 677.5970318991666\n",
      "Model: 2933.85063075707, Actual: 6685.534740714883\n",
      "Model: 2784.58967981554, Actual: 198.87036988618334\n",
      "Model: 2940.011316923281, Actual: 5231.396509224422\n",
      "Model: 2938.058696668686, Actual: 3359.046975826702\n",
      "Model: 2934.6812564072047, Actual: 3257.2751091347623\n",
      "Model: 2938.111868144541, Actual: 2975.6993689837323\n",
      "Model: 2941.576401934006, Actual: 899.7070187164294\n",
      "Model: 2938.0171747643008, Actual: 485.5831543359542\n",
      "Model: 2932.681892557759, Actual: 542.0410989782083\n",
      "Model: 32.71795455959318, Actual: 285.2896747463375\n",
      "Model: 2930.650929234106, Actual: 4796.495899225694\n",
      "Model: 2937.3858947744716, Actual: 4372.331155073582\n",
      "Model: 2622.622570361, Actual: 462.2369019583957\n",
      "Model: 2942.7598909654644, Actual: 774.4794964290331\n",
      "Model: 2448.776803055949, Actual: 1196.4053757604086\n",
      "Model: 3108.7694000022802, Actual: 7068.523698442158\n",
      "Model: 2939.6356594654694, Actual: 1146.888529794\n",
      "Model: 1802.5728150579228, Actual: 398.87321605384994\n",
      "Model: 2895.773321913027, Actual: 4302.653319892255\n",
      "Model: 2915.053937579317, Actual: 5090.091548939565\n",
      "Model: 2951.691165881742, Actual: 558.9428895930874\n",
      "Model: 2938.0856097154674, Actual: 2576.4231572207036\n",
      "Model: 2937.9930873401313, Actual: 2559.5102713628867\n",
      "Model: 2804.73897781482, Actual: 510.1337568773001\n",
      "Model: 2902.8573074141746, Actual: 510.940097105925\n",
      "Model: 2939.775567130524, Actual: 756.5265413136038\n",
      "Model: 2902.1548160238553, Actual: 668.6864741141877\n",
      "Model: 2938.0559447570786, Actual: 2737.231366270104\n",
      "Model: 2919.892373301764, Actual: 673.0947825932666\n"
     ]
    },
    {
     "name": "stdout",
     "output_type": "stream",
     "text": [
      "Model: 2935.750894156338, Actual: 4142.390443420497\n",
      "Model: 2938.0681437111707, Actual: 2821.27594437795\n",
      "Model: 2882.2298320548794, Actual: 494.0673651053917\n",
      "Model: 2938.072351341207, Actual: 2865.8627055872166\n",
      "Model: 2941.655182295322, Actual: 321.9376428902958\n",
      "Model: 3071.58257015486, Actual: 6867.29315821445\n",
      "Model: 2940.6340930320002, Actual: 4923.447127550085\n",
      "Model: 2938.0890516839963, Actual: 3316.2985467757644\n",
      "Model: 2600.297960209139, Actual: 442.72019661700415\n",
      "Model: 2540.8164313873253, Actual: 441.2077354612625\n",
      "Model: 2908.4374931614566, Actual: 731.7890402799\n",
      "Model: 2940.9863086860005, Actual: 1169.2710991686627\n",
      "Model: 2941.765888102954, Actual: 747.7213759816627\n",
      "Model: 2937.9371061841894, Actual: 3095.4264090243505\n",
      "Model: 4139.545857051026, Actual: 9071.052005948008\n",
      "Model: 2941.5657932135173, Actual: 5012.540537097024\n",
      "Model: 2916.5839100721932, Actual: 526.0308848297709\n",
      "Mean Absolute error: 1879.16 newton.\n",
      "[ 2934.68396341  2937.64446933  2927.76999565  2871.30682031\n",
      "  2938.09832584  2941.35421587  3213.94640255  2855.8118093\n",
      "  2792.87081835 -1520.0228303   2932.66436463  2938.0659128\n",
      "  4453.24932757  2938.25565011  2927.017674    2046.13711536\n",
      "  2938.0684956   2938.03403028  2419.07114101  2939.8701779\n",
      "  2952.70421475  2910.52330364  2950.69927116  2938.08557625\n",
      "  2928.84319988  1700.43262932  2937.29947949  2946.67422042\n",
      "  2945.12898069  2916.23020139  2930.85055933  2938.14324792\n",
      "  2524.29962171  4408.14287709  3115.62980301  2944.94400296\n",
      "  2706.51925061  2908.7658496   2937.26107866  2937.98905179\n",
      "  2944.91793619  2928.66086648  2923.44066092  2938.49243933\n",
      "  2373.95816395  3128.68346909  2938.11675755  2937.24708189\n",
      "  2942.05410066  2668.90408301  2938.88572014  2946.69216678\n",
      "  2977.22007568  2938.11736596  2973.17667656  2937.62229049\n",
      "  2938.08545505  2942.81634606  2935.09222905  2937.49459097\n",
      "  2834.86286031  2937.34065493  2937.95791949  2937.8981075\n",
      "  3046.19394507  -951.68829934  2937.63739122  2938.3469207\n",
      "  2962.25542662  2942.20408692  2938.08014503  2937.39254849\n",
      "  2235.82608251  2869.24374435  2945.97899324  2922.0415925\n",
      "  2977.57097557  2955.48963932  2938.00536803  2899.51170574\n",
      "  3049.54097904  2386.19765224  2929.76459285  2917.05696404\n",
      "  2938.03321893  2745.46623172  2938.08575274  2937.17186421\n",
      "  2938.09070868  2921.99999434  2934.85918686  2935.93301705\n",
      "  3385.90499338  2857.12085606  2939.10303884  2647.99476713\n",
      "  2937.69674428  2935.73708783  2941.50956197  2939.47077853\n",
      "  2920.74144875  2937.97503373  2940.53581381  2894.88939315\n",
      "  2938.02793572  2934.93107583  2779.95994877  2919.31334081\n",
      "  2920.73243562  2950.29560025  2936.18674978  3196.800349\n",
      "  2943.61977696  2942.76765834  2953.97645064  2936.82499677\n",
      "  2444.56877975  2976.05394165  1676.55631297  2159.9567311\n",
      "  2967.25758289  5056.52046649  2940.76011715  2938.08661643\n",
      "   624.32587497  1318.0833918   2926.98239422  2937.87082282\n",
      "  2942.3472199   2950.05732346  2940.54186567  2938.02595257\n",
      "  2936.70021804  2899.78566339  2937.87411372  2558.46774123\n",
      "  2909.83901498  2937.76584816  2980.80361124  3713.80922309\n",
      "  2938.09003865  2937.92915865  2945.07795574  2898.2319487\n",
      "  2937.61055865  2944.5921702   2938.08050764  2789.57666766\n",
      "  2940.50653296  3056.78155092  4844.91266211  2937.7950207\n",
      "  2938.48414145  2821.73860174  2933.30452974  2829.86102991\n",
      "  2937.95162567  2942.96609567  2565.8130372   2945.7010475\n",
      "  3030.72591354  2939.84436231  2941.59174745  2945.64460456\n",
      "  2933.85063076  2784.58967982  2940.01131692  2938.05869667\n",
      "  2934.68125641  2938.11186814  2941.57640193  2938.01717476\n",
      "  2932.68189256    32.71795456  2930.65092923  2937.38589477\n",
      "  2622.62257036  2942.75989097  2448.77680306  3108.7694\n",
      "  2939.63565947  1802.57281506  2895.77332191  2915.05393758\n",
      "  2951.69116588  2938.08560972  2937.99308734  2804.73897781\n",
      "  2902.85730741  2939.77556713  2902.15481602  2938.05594476\n",
      "  2919.8923733   2935.75089416  2938.06814371  2882.22983205\n",
      "  2938.07235134  2941.6551823   3071.58257015  2940.63409303\n",
      "  2938.08905168  2600.29796021  2540.81643139  2908.43749316\n",
      "  2940.98630869  2941.7658881   2937.93710618  4139.54585705\n",
      "  2941.56579321  2916.58391007]\n",
      "Accuracy: -68.46 %.\n"
     ]
    }
   ],
   "source": [
    "# Calculate Accuracy\n",
    "errors = 0\n",
    "ltv_pred = np.empty(test_labels.shape)\n",
    "i = 0\n",
    "for X,y in zip(test_features, test_labels):\n",
    "    print(f\"Model: {clf.predict([X])[0]}, Actual: {y}\")\n",
    "    errors += abs(clf.predict([X])[0] - y)\n",
    "    ltv_pred[i] = clf.predict([X])[0]\n",
    "    i += 1\n",
    "errors = errors / test_features.shape[0]\n",
    "\n",
    "print('Mean Absolute error:',round(errors, 2) , 'newton.')\n",
    "\n",
    "# Calculate mean absolute percentage error\n",
    "mape = 100 * (errors / test_labels)\n",
    "\n",
    "# Calculate and display accuracy\n",
    "accuracy = 100 - np.abs(np.mean(mape))\n",
    "print(ltv_pred)\n",
    "print('Accuracy:', round(accuracy, 2), '%.')"
   ]
  },
  {
   "cell_type": "code",
   "execution_count": 43,
   "metadata": {},
   "outputs": [
    {
     "name": "stdout",
     "output_type": "stream",
     "text": [
      "The new test_labels data is:\n",
      " [ 1.  1. -1. -1.  1.  1.  1. -1.  1. -1. -1.  1.  1.  1.  1.  1. -1.  1.\n",
      " -1.  1. -1.  1. -1.  1.  1. -1.  1. -1.  1.  1. -1.  1.  1.  1.  1. -1.\n",
      " -1. -1.  1.  1.  1.  1.  1.  1. -1.  1.  1.  1. -1. -1.  1.  1.  1.  1.\n",
      "  1. -1. -1.  1. -1.  1. -1. -1.  1.  1.  1. -1.  1.  1.  1. -1.  1.  1.\n",
      " -1. -1. -1. -1.  1. -1.  1. -1.  1. -1.  1.  1.  1. -1.  1. -1.  1.  1.\n",
      "  1.  1.  1. -1.  1. -1.  1. -1. -1. -1.  1.  1.  1.  1.  1. -1. -1.  1.\n",
      "  1. -1.  1.  1. -1. -1.  1.  1. -1. -1. -1. -1. -1.  1. -1. -1.  1. -1.\n",
      " -1. -1. -1. -1. -1. -1.  1. -1.  1. -1. -1.  1. -1.  1.  1. -1. -1. -1.\n",
      " -1. -1.  1. -1.  1.  1.  1.  1.  1. -1.  1. -1. -1.  1. -1. -1.  1.  1.\n",
      "  1. -1.  1. -1.  1.  1.  1. -1. -1. -1. -1. -1.  1.  1. -1. -1. -1.  1.\n",
      " -1. -1.  1.  1. -1. -1. -1. -1. -1. -1. -1. -1. -1.  1. -1. -1. -1. -1.\n",
      "  1.  1.  1. -1. -1. -1. -1. -1.  1.  1.  1. -1.]\n"
     ]
    }
   ],
   "source": [
    "\"\"\"Method 4: Perceptron\"\"\"\n",
    "\n",
    "threshold = 2979.856 \n",
    "#2979.856 average number for lifetime value\n",
    "for i in range(test_labels.shape[0]):\n",
    "    if test_labels[i] > threshold:\n",
    "        test_labels[i] = 1\n",
    "    else:\n",
    "        test_labels[i] = -1\n",
    "        \n",
    "# We classify the value above the shrehold as 1, the value below the shrehold as -1\n",
    "print(\"The new test_labels data is:\\n\", test_labels)\n",
    "\n",
    "for i in range(train_labels.shape[0]):\n",
    "    if train_labels[i] > threshold:\n",
    "        train_labels[i] = 1\n",
    "    else:\n",
    "        train_labels[i] = -1\n"
   ]
  },
  {
   "cell_type": "code",
   "execution_count": 44,
   "metadata": {},
   "outputs": [
    {
     "name": "stdout",
     "output_type": "stream",
     "text": [
      "The prediction array is:\n",
      " [ 1.  1. -1. -1.  1.  1.  1. -1.  1. -1. -1.  1.  1.  1.  1.  1. -1.  1.\n",
      " -1.  1. -1.  1. -1.  1.  1. -1.  1. -1.  1.  1. -1.  1.  1.  1.  1. -1.\n",
      " -1. -1.  1.  1.  1.  1.  1.  1. -1.  1.  1.  1. -1. -1.  1.  1.  1.  1.\n",
      "  1. -1. -1.  1. -1.  1. -1. -1.  1.  1.  1. -1.  1.  1.  1. -1.  1.  1.\n",
      " -1. -1. -1. -1.  1. -1.  1. -1.  1. -1.  1.  1.  1. -1.  1. -1.  1.  1.\n",
      "  1.  1.  1. -1.  1. -1.  1. -1. -1. -1.  1.  1.  1.  1.  1. -1. -1.  1.\n",
      "  1. -1.  1.  1. -1. -1.  1.  1. -1. -1. -1. -1. -1.  1. -1. -1.  1. -1.\n",
      " -1. -1. -1. -1. -1. -1.  1. -1.  1. -1. -1.  1. -1.  1.  1. -1. -1. -1.\n",
      " -1. -1.  1. -1.  1.  1.  1.  1.  1. -1.  1. -1. -1.  1. -1. -1.  1.  1.\n",
      "  1. -1.  1. -1.  1.  1.  1.  1. -1. -1. -1. -1.  1.  1. -1. -1. -1.  1.\n",
      " -1. -1.  1.  1. -1. -1. -1. -1. -1. -1. -1. -1. -1.  1. -1. -1. -1. -1.\n",
      "  1.  1.  1. -1. -1. -1. -1. -1.  1.  1.  1. -1.]\n",
      "Mean Absolute Error: $ 0.01 .\n"
     ]
    }
   ],
   "source": [
    "# Calculate the Mean Absolute Error for Perceptron\n",
    "\n",
    "ppn = Perceptron(max_iter = 100, eta0=1, random_state=0)\n",
    "\n",
    "ltv_pred = np.empty(test_labels.shape)\n",
    "\n",
    "# Train the perceptron\n",
    "ppn = ppn.fit(train_features, np.asarray(train_labels, dtype=\"|S6\"))\n",
    "y_pred = ppn.predict(test_features)\n",
    "\n",
    "for i in range(y_pred.shape[0]):\n",
    "    ltv_pred[i] = y_pred[i]\n",
    "#Calculate the absolute errors\n",
    "errors = abs(np.asarray(y_pred, dtype=float) - np.asarray(test_labels, dtype=float))\n",
    "\n",
    "# pmax prediction array\n",
    "print(\"The prediction array is:\\n\",ltv_pred)\n",
    "\n",
    "#print out the mean absolute error\n",
    "print('Mean Absolute Error:', '$',round(np.mean(errors), 2), '.')"
   ]
  },
  {
   "cell_type": "code",
   "execution_count": 45,
   "metadata": {},
   "outputs": [
    {
     "name": "stdout",
     "output_type": "stream",
     "text": [
      "Mean Absolute Percent Error (MAPE): -0.9523809523809523 %.\n",
      "Accuracy: 99.05 %.\n"
     ]
    }
   ],
   "source": [
    "# Calculate MAPE and Accuracy for Perceptron\n",
    "\n",
    "mape = 100 * (errors / test_labels)\n",
    "\n",
    "# Calculate and display accuracy\n",
    "accuracy = 100 - np.abs(np.mean(mape))\n",
    "print(\"Mean Absolute Percent Error (MAPE):\", np.mean(mape), '%.')\n",
    "print('Accuracy:', round(accuracy, 2), '%.')"
   ]
  },
  {
   "cell_type": "code",
   "execution_count": null,
   "metadata": {},
   "outputs": [],
   "source": []
  }
 ],
 "metadata": {
  "kernelspec": {
   "display_name": "Python 3",
   "language": "python",
   "name": "python3"
  },
  "language_info": {
   "codemirror_mode": {
    "name": "ipython",
    "version": 3
   },
   "file_extension": ".py",
   "mimetype": "text/x-python",
   "name": "python",
   "nbconvert_exporter": "python",
   "pygments_lexer": "ipython3",
   "version": "3.7.3"
  }
 },
 "nbformat": 4,
 "nbformat_minor": 2
}
